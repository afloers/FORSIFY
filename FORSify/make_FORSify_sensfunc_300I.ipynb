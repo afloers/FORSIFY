{
 "cells": [
  {
   "cell_type": "code",
   "execution_count": 1,
   "metadata": {},
   "outputs": [],
   "source": [
    "from astropy.io import fits\n",
    "import numpy as np\n",
    "import matplotlib.pyplot as plt\n",
    "from astropy import table\n"
   ]
  },
  {
   "cell_type": "code",
   "execution_count": 2,
   "metadata": {},
   "outputs": [],
   "source": [
    "IRAF_SENSFUNC = '/Users/afloers/Downloads/sens_FORS2_P104_300I.dat'\n",
    "PERIOD = 'P104'\n",
    "GRISM = '300I'"
   ]
  },
  {
   "cell_type": "code",
   "execution_count": 18,
   "metadata": {},
   "outputs": [],
   "source": [
    "iraf = np.loadtxt(IRAF_SENSFUNC)\n",
    "wave_iraf = iraf[:,0]\n",
    "sens_iraf = iraf[:,1]\n",
    "\n",
    "iraf_bin = wave_iraf[1]-wave_iraf[0]\n",
    "extend_by = 200\n",
    "lower_extension = np.linspace(wave_iraf[0] - 2 * extend_by * iraf_bin, wave_iraf[0] - iraf_bin, 2 * extend_by)\n",
    "upper_extension = np.linspace(wave_iraf[-1] + iraf_bin,wave_iraf[-1] + 4 * extend_by * iraf_bin, 4 * extend_by)\n",
    "\n",
    "z1 = np.polyfit(wave_iraf[:30], sens_iraf[:30], 1)\n",
    "z2 = np.polyfit(wave_iraf[-30:], sens_iraf[-30:], 1)\n",
    "\n",
    "lower_sens_extension = z1[1] + z1[0]*lower_extension \n",
    "lower_sens_extension[lower_sens_extension<0] = np.nan\n",
    "\n",
    "upper_sens_extension = z2[1] + z2[0]*upper_extension \n",
    "upper_sens_extension[upper_sens_extension<0] = np.nan\n",
    "\n",
    "wave_iraf_extended = np.hstack((lower_extension, wave_iraf, upper_extension))\n",
    "sens_iraf_extended = np.hstack((lower_sens_extension, sens_iraf, upper_sens_extension))\n",
    "\n",
    "turn_off_point = 5950\n",
    "value_turn_off = np.interp(turn_off_point, wave_iraf_extended, sens_iraf_extended)\n",
    "sens_iraf_extended[wave_iraf_extended < turn_off_point] = value_turn_off\n",
    "\n",
    "turn_off_point_red = 10300\n",
    "value_turn_off_red = np.interp(turn_off_point_red, wave_iraf_extended, sens_iraf_extended)\n",
    "sens_iraf_extended[wave_iraf_extended > turn_off_point_red] = value_turn_off_red\n",
    "\n",
    "\n",
    "sens_iraf_extended = sens_iraf_extended + 2.5 * np.log10(iraf_bin)\n",
    "\n",
    "sens_iraf_extended = (10**(0.4 * sens_iraf_extended))\n",
    "sens = fits.open('data/FORSify_sens_template.fits').copy()\n",
    "header = sens[0].header\n",
    "sens['WAVE'].data = wave_iraf_extended\n",
    "sens['SENSFUNC'].data = 1/(sens_iraf_extended*1e-17)\n",
    "meta_table = table.Table(sens['METADATA'].data)\n",
    "header['SPC1DFIL'] = 'ESO FORS2 standards' + PERIOD\n",
    "sens[0].header = header\n",
    "out_table = table.Table(meta={'name': 'Sensitivity Function'})\n",
    "out_table['WAVE'] = [wave_iraf_extended.T]\n",
    "out_table['SENSFUNC'] = [(1/(sens_iraf_extended*1e-17)).T]\n",
    "out_table['MASK_SENS'] = [np.zeros(sens_iraf_extended.shape[0], dtype=bool).T]\n",
    "out_table['WAVE_MIN'] = wave_iraf_extended.min()\n",
    "out_table['WAVE_MAX'] = wave_iraf_extended.max()\n",
    "\n",
    "\n",
    "hdu_out_table = fits.table_to_hdu(out_table)\n",
    "hdu_out_table.name = 'OUT_TABLE'\n",
    "sens['OUT_TABLE'] = hdu_out_table\n",
    "meta_table['EXPTIME'] = 'NaN'\n",
    "meta_table['AIRMASS'] = 'NaN'\n",
    "meta_table['STD_RA'] = 'NaN'\n",
    "meta_table['STD_DEC'] = 'NaN'\n",
    "meta_table['STD_NAME'] = 'NaN'\n",
    "meta_table['CAL_FILE'] = PERIOD + ' Standards'\n",
    "hdu_meta_table = fits.table_to_hdu(meta_table)\n",
    "hdu_meta_table.name = 'METADATA'\n",
    "sens['METADATA'] = hdu_meta_table\n",
    "sens.writeto('pypeit_sens_'+ PERIOD + '_' + GRISM + '.fits', overwrite=True, checksum=True)"
   ]
  },
  {
   "cell_type": "code",
   "execution_count": 15,
   "metadata": {},
   "outputs": [
    {
     "name": "stdout",
     "output_type": "stream",
     "text": [
      "Using matplotlib backend: TkAgg\n"
     ]
    },
    {
     "data": {
      "text/plain": [
       "[<matplotlib.lines.Line2D at 0x116e29908>]"
      ]
     },
     "execution_count": 15,
     "metadata": {},
     "output_type": "execute_result"
    }
   ],
   "source": [
    "%matplotlib\n",
    "import matplotlib.pyplot as plt\n",
    "plt.plot(wave_iraf_extended, sens_iraf_extended)"
   ]
  },
  {
   "cell_type": "code",
   "execution_count": null,
   "metadata": {},
   "outputs": [],
   "source": []
  }
 ],
 "metadata": {
  "kernelspec": {
   "display_name": "Python 3",
   "language": "python",
   "name": "python3"
  },
  "language_info": {
   "codemirror_mode": {
    "name": "ipython",
    "version": 3
   },
   "file_extension": ".py",
   "mimetype": "text/x-python",
   "name": "python",
   "nbconvert_exporter": "python",
   "pygments_lexer": "ipython3",
   "version": "3.7.1"
  }
 },
 "nbformat": 4,
 "nbformat_minor": 4
}
